{
 "cells": [
  {
   "cell_type": "code",
   "execution_count": 222,
   "metadata": {},
   "outputs": [],
   "source": [
    "import os\n",
    "from sklearn import (datasets, pipeline, feature_extraction, svm,model_selection,naive_bayes, linear_model,metrics)\n",
    "import spacy\n",
    "import re\n",
    "import string\n",
    "import unidecode\n",
    "from spacy.lang.es import Spanish\n",
    "import numpy as np\n",
    "\n",
    "parser = Spanish()\n",
    "nlp = spacy.load(\"es\")"
   ]
  },
  {
   "cell_type": "code",
   "execution_count": 112,
   "metadata": {},
   "outputs": [
    {
     "name": "stdout",
     "output_type": "stream",
     "text": [
      "Data loaded.\n",
      " Classes: ['against', 'favor', 'neutral']\n",
      "Data: 4319\n"
     ]
    }
   ],
   "source": [
    "data_directory = \"independencia_catalunya\"\n",
    "\n",
    "dataset = datasets.load_files(data_directory, shuffle = True, random_state = 42, encoding = 'utf-8')\n",
    "\n",
    "print(\"Data loaded.\\n Classes: {classes}\\nData: {datapoints}\".format(\n",
    "    classes = dataset.target_names,\n",
    "    datapoints = len(dataset.data)\n",
    "))"
   ]
  },
  {
   "cell_type": "code",
   "execution_count": 250,
   "metadata": {},
   "outputs": [],
   "source": [
    "def spacy_tokenizer(sentence):\n",
    "   # Creating our token object, which is used to create documents with linguistic annotations.\n",
    "    mytokens = parser(sentence)\n",
    "    \n",
    "    # Lemmatizing each token and converting each token into lowercase\n",
    "    #mytokens = [ word.lemma_.lower().strip() if word.lemma_ != \"-PRON-\" else word.lower_ for word in mytokens ]\n",
    "\n",
    "    # Removing stop words\n",
    "    # mytokens = [ word for word in mytokens if word not in stop_words and word not in punctuations ]\n",
    "    mytokens = [ word.text for word in mytokens]\n",
    "\n",
    "    # return preprocessed list of tokens\n",
    "    return mytokens"
   ]
  },
  {
   "cell_type": "code",
   "execution_count": 146,
   "metadata": {},
   "outputs": [],
   "source": [
    "def clean_corpus(corpus):\n",
    "    processed_corpus = corpus.replace('\\r \\n','')\n",
    "    \n",
    "    processed_corpus = processed_corpus.lower()\n",
    "    processed_corpus = processed_corpus.replace('#27s','')\n",
    "    processed_corpus = re.sub(r'''(?i)\\b((?:https?://|www\\d{0,3}[.]|[a-z0-9.\\-]+[.][a-z]{2,4}/)(?:[^\\s()<>]+|\\(([^\\s()<>]+|(\\([^\\s()<>]+\\)))*\\))+(?:\\(([^\\s()<>]+|(\\([^\\s()<>]+\\)))*\\)|[^\\s`!()\\[\\]{};:'\".,<>?«»“”‘’]))''', '',processed_corpus)\n",
    "    processed_corpus = re.sub('[!¡,¿?#@:\\'\".=´“”();-]|[0-9](%|h)?','',processed_corpus)\n",
    "    processed_corpus = unidecode.unidecode(processed_corpus) # Elimina las ñ\n",
    "    \n",
    "    processed_corpus = processed_corpus.replace('+',' ')\n",
    "    processed_corpus = processed_corpus.replace('km²','')\n",
    "    processed_corpus = processed_corpus.replace('&gt','')\n",
    "    \n",
    "    processed_corpus = re.sub(r' +',' ',processed_corpus)\n",
    "    # print(processed_corpus)\n",
    "    return processed_corpus\n",
    "    \n",
    "    "
   ]
  },
  {
   "cell_type": "code",
   "execution_count": 141,
   "metadata": {},
   "outputs": [
    {
     "name": "stdout",
     "output_type": "stream",
     "text": [
      "me encanta como nos dan lecciones los que ni tan siquiera respetan sus programas electorales votantes pedrosanchez pp \n"
     ]
    }
   ],
   "source": [
    "clean_corpus(dataset.data[0])"
   ]
  },
  {
   "cell_type": "code",
   "execution_count": 143,
   "metadata": {
    "scrolled": false
   },
   "outputs": [],
   "source": [
    "#i=0\n",
    "#for w in dataset.data:\n",
    "    #w = w.replace('\\r \\n','')\n",
    "    #print('-'*20)\n",
    "    #print(i)\n",
    "    #print(dataset.target_names[dataset.target[i]])\n",
    "    #print('{}\\n'.format(w))\n",
    "    #i+=1"
   ]
  },
  {
   "cell_type": "code",
   "execution_count": 148,
   "metadata": {},
   "outputs": [
    {
     "name": "stdout",
     "output_type": "stream",
     "text": [
      "me encanta como nos dan lecciones los que ni tan siquiera respetan sus programas electorales votantes pedrosanchez pp \n"
     ]
    }
   ],
   "source": [
    "processed_corpus = [clean_corpus(sw) for sw in dataset.data]\n",
    "\n"
   ]
  },
  {
   "cell_type": "code",
   "execution_count": 220,
   "metadata": {},
   "outputs": [],
   "source": [
    "X_train, X_test, y_train, y_test = model_selection.train_test_split(\n",
    "    processed_corpus, dataset.target, test_size = 0.2, random_state=42)"
   ]
  },
  {
   "cell_type": "code",
   "execution_count": 280,
   "metadata": {},
   "outputs": [
    {
     "name": "stdout",
     "output_type": "stream",
     "text": [
      "The model acurracy is 0.7453703703703703\n"
     ]
    }
   ],
   "source": [
    "spacy_stopwords = spacy.lang.es.stop_words.STOP_WORDS\n",
    "\n",
    "model = pipeline.Pipeline([\n",
    "    ('counts',feature_extraction.text.CountVectorizer(\n",
    "        lowercase = True,\n",
    "        tokenizer = spacy_tokenizer,\n",
    "        min_df = 5,\n",
    "        ngram_range = (1,3),\n",
    "        stop_words = spacy_stopwords\n",
    "    )),\n",
    "    ('tfidf', feature_extraction.text.TfidfTransformer()),\n",
    "     ('LogisticRegression', linear_model.LogisticRegression())\n",
    "    #('svm', svm.LinearSVC())\n",
    "])\n",
    "\n",
    "model.fit(X_train, y_train)\n",
    "y_pred = model.predict(X_test)\n",
    "print('The model acurracy is {}'.format(\n",
    "    model.score(X_test,y_test)))"
   ]
  },
  {
   "cell_type": "code",
   "execution_count": 255,
   "metadata": {},
   "outputs": [
    {
     "name": "stdout",
     "output_type": "stream",
     "text": [
      "              precision    recall  f1-score   support\n",
      "\n",
      "     against       0.80      0.54      0.64       290\n",
      "       favor       0.93      0.21      0.34        68\n",
      "     neutral       0.73      0.93      0.82       506\n",
      "\n",
      "   micro avg       0.75      0.75      0.75       864\n",
      "   macro avg       0.82      0.56      0.60       864\n",
      "weighted avg       0.77      0.75      0.72       864\n",
      "\n"
     ]
    }
   ],
   "source": [
    "print(metrics.classification_report(y_test,y_pred, target_names = dataset.target_names))"
   ]
  }
 ],
 "metadata": {
  "kernelspec": {
   "display_name": "Python 3",
   "language": "python",
   "name": "python3"
  },
  "language_info": {
   "codemirror_mode": {
    "name": "ipython",
    "version": 3
   },
   "file_extension": ".py",
   "mimetype": "text/x-python",
   "name": "python",
   "nbconvert_exporter": "python",
   "pygments_lexer": "ipython3",
   "version": "3.7.2"
  }
 },
 "nbformat": 4,
 "nbformat_minor": 2
}
