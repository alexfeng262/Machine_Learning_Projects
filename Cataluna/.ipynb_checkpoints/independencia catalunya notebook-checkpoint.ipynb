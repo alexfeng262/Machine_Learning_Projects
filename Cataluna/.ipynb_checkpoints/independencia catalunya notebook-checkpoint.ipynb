{
 "cells": [
  {
   "cell_type": "code",
   "execution_count": 193,
   "metadata": {},
   "outputs": [],
   "source": [
    "import os\n",
    "from sklearn import (datasets, pipeline, feature_extraction, svm,model_selection,naive_bayes, linear_model,metrics)\n",
    "import spacy\n",
    "import re\n",
    "import string\n",
    "import unidecode\n",
    "from spacy.lang.es import Spanish\n",
    "import numpy as np\n",
    "\n",
    "parser = Spanish()\n",
    "nlp = spacy.load(\"es\")"
   ]
  },
  {
   "cell_type": "code",
   "execution_count": 112,
   "metadata": {},
   "outputs": [
    {
     "name": "stdout",
     "output_type": "stream",
     "text": [
      "Data loaded.\n",
      " Classes: ['against', 'favor', 'neutral']\n",
      "Data: 4319\n"
     ]
    }
   ],
   "source": [
    "data_directory = \"independencia_catalunya\"\n",
    "\n",
    "dataset = datasets.load_files(data_directory, shuffle = True, random_state = 42, encoding = 'utf-8')\n",
    "\n",
    "print(\"Data loaded.\\n Classes: {classes}\\nData: {datapoints}\".format(\n",
    "    classes = dataset.target_names,\n",
    "    datapoints = len(dataset.data)\n",
    "))"
   ]
  },
  {
   "cell_type": "code",
   "execution_count": 177,
   "metadata": {},
   "outputs": [],
   "source": [
    "def spacy_tokenizer(sentence):\n",
    "   # Creating our token object, which is used to create documents with linguistic annotations.\n",
    "    mytokens = parser(sentence)\n",
    "    \n",
    "    # Lemmatizing each token and converting each token into lowercase\n",
    "    mytokens = [ word.lemma_.lower().strip() if word.lemma_ != \"-PRON-\" else word.lower_ for word in mytokens ]\n",
    "\n",
    "    # Removing stop words\n",
    "    # mytokens = [ word for word in mytokens if word not in stop_words and word not in punctuations ]\n",
    "   # mytokens = [ word for word in mytokens if word not in stop_words ]\n",
    "\n",
    "    # return preprocessed list of tokens\n",
    "    return mytokens"
   ]
  },
  {
   "cell_type": "code",
   "execution_count": 146,
   "metadata": {},
   "outputs": [],
   "source": [
    "def clean_corpus(corpus):\n",
    "    processed_corpus = corpus.replace('\\r \\n','')\n",
    "    \n",
    "    processed_corpus = processed_corpus.lower()\n",
    "    processed_corpus = processed_corpus.replace('#27s','')\n",
    "    processed_corpus = re.sub(r'''(?i)\\b((?:https?://|www\\d{0,3}[.]|[a-z0-9.\\-]+[.][a-z]{2,4}/)(?:[^\\s()<>]+|\\(([^\\s()<>]+|(\\([^\\s()<>]+\\)))*\\))+(?:\\(([^\\s()<>]+|(\\([^\\s()<>]+\\)))*\\)|[^\\s`!()\\[\\]{};:'\".,<>?«»“”‘’]))''', '',processed_corpus)\n",
    "    processed_corpus = re.sub('[!¡,¿?#@:\\'\".=´“”();-]|[0-9](%|h)?','',processed_corpus)\n",
    "    processed_corpus = unidecode.unidecode(processed_corpus) # Elimina las ñ\n",
    "    \n",
    "    processed_corpus = processed_corpus.replace('+',' ')\n",
    "    processed_corpus = processed_corpus.replace('km²','')\n",
    "    processed_corpus = processed_corpus.replace('&gt','')\n",
    "    \n",
    "    processed_corpus = re.sub(r' +',' ',processed_corpus)\n",
    "    # print(processed_corpus)\n",
    "    return processed_corpus\n",
    "    \n",
    "    "
   ]
  },
  {
   "cell_type": "code",
   "execution_count": 141,
   "metadata": {},
   "outputs": [
    {
     "name": "stdout",
     "output_type": "stream",
     "text": [
      "me encanta como nos dan lecciones los que ni tan siquiera respetan sus programas electorales votantes pedrosanchez pp \n"
     ]
    }
   ],
   "source": [
    "clean_corpus(dataset.data[0])"
   ]
  },
  {
   "cell_type": "code",
   "execution_count": 143,
   "metadata": {
    "scrolled": false
   },
   "outputs": [],
   "source": [
    "#i=0\n",
    "#for w in dataset.data:\n",
    "    #w = w.replace('\\r \\n','')\n",
    "    #print('-'*20)\n",
    "    #print(i)\n",
    "    #print(dataset.target_names[dataset.target[i]])\n",
    "    #print('{}\\n'.format(w))\n",
    "    #i+=1"
   ]
  },
  {
   "cell_type": "code",
   "execution_count": 148,
   "metadata": {},
   "outputs": [
    {
     "name": "stdout",
     "output_type": "stream",
     "text": [
      "me encanta como nos dan lecciones los que ni tan siquiera respetan sus programas electorales votantes pedrosanchez pp \n"
     ]
    }
   ],
   "source": [
    "processed_corpus = [clean_corpus(sw) for sw in dataset.data]\n",
    "\n"
   ]
  },
  {
   "cell_type": "code",
   "execution_count": 220,
   "metadata": {},
   "outputs": [],
   "source": [
    "X_train, X_test, y_train, y_test = model_selection.train_test_split(\n",
    "    processed_corpus, dataset.target, test_size = 0.2, random_state=42)"
   ]
  },
  {
   "cell_type": "code",
   "execution_count": 221,
   "metadata": {},
   "outputs": [
    {
     "name": "stderr",
     "output_type": "stream",
     "text": [
      "c:\\users\\alexf\\appdata\\local\\programs\\python\\python37\\lib\\site-packages\\sklearn\\feature_extraction\\text.py:301: UserWarning: Your stop_words may be inconsistent with your preprocessing. Tokenizing the stop words generated tokens ['1', 'acordar', 'adelantar', 'ademar', 'afirmar', 'agregar', 'apenar', 'arribar', 'asegurar', 'asir', 'añadir', 'bajar', 'cercar', 'cincar', 'comentar', 'comer', 'considerar', 'contar', 'coser', 'creer', 'cualquiera', 'deber', 'dejar', 'demasiar', 'do', 'embargar', 'encimar', 'encontrar', 'enfrentar', 'entrar', 'erar', 'existir', 'explicar', 'expresar', 'grande', 'hablar', 'haz', 'hemo', 'hora', 'indicar', 'informar', 'juntar', 'largar', 'llegar', 'manifestar', 'mediar', 'mencionar', 'miar', 'nadar', 'o', 'parecer', 'parir', 'pasar', 'quedar', 'querer', 'raro', 'respectar', 'salvar', 'seguir', 'segundar', 'señalar', 'sobrar', 'suponer', 'tardar', 'tercero', 'tratar', 'ultimar', 'unir', 'vario', '\\ufeff1'] not in stop_words.\n",
      "  'stop_words.' % sorted(inconsistent))\n",
      "c:\\users\\alexf\\appdata\\local\\programs\\python\\python37\\lib\\site-packages\\sklearn\\linear_model\\logistic.py:433: FutureWarning: Default solver will be changed to 'lbfgs' in 0.22. Specify a solver to silence this warning.\n",
      "  FutureWarning)\n",
      "c:\\users\\alexf\\appdata\\local\\programs\\python\\python37\\lib\\site-packages\\sklearn\\linear_model\\logistic.py:460: FutureWarning: Default multi_class will be changed to 'auto' in 0.22. Specify the multi_class option to silence this warning.\n",
      "  \"this warning.\", FutureWarning)\n"
     ]
    },
    {
     "name": "stdout",
     "output_type": "stream",
     "text": [
      "The model acurracy is 0.7407407407407407\n"
     ]
    }
   ],
   "source": [
    "spacy_stopwords = spacy.lang.es.stop_words.STOP_WORDS\n",
    "\n",
    "model = pipeline.Pipeline([\n",
    "    ('counts',feature_extraction.text.CountVectorizer(\n",
    "        lowercase = True,\n",
    "        tokenizer = spacy_tokenizer,\n",
    "        min_df = 5,\n",
    "        ngram_range = (1,3),\n",
    "        stop_words = spacy_stopwords\n",
    "    )),\n",
    "    ('tfidf', feature_extraction.text.TfidfTransformer()),\n",
    "     ('LogisticRegression', linear_model.LogisticRegression())\n",
    "    #('svm', svm.LinearSVC())\n",
    "])\n",
    "\n",
    "model.fit(X_train, y_train)\n",
    "y_pred = model.predict(X_test)\n",
    "print('The model acurracy is {}'.format(\n",
    "    model.score(X_test,y_test)))"
   ]
  },
  {
   "cell_type": "code",
   "execution_count": 216,
   "metadata": {},
   "outputs": [
    {
     "data": {
      "text/plain": [
       "['me',\n",
       " 'encantar',\n",
       " 'comer',\n",
       " 'no',\n",
       " 'dar',\n",
       " 'lección',\n",
       " 'lo',\n",
       " 'que',\n",
       " 'ni',\n",
       " 'tan',\n",
       " 'siquiera',\n",
       " 'respetar',\n",
       " 'su',\n",
       " 'programar',\n",
       " 'electoral',\n",
       " 'votante',\n",
       " 'pedrosanchez',\n",
       " 'pp']"
      ]
     },
     "execution_count": 216,
     "metadata": {},
     "output_type": "execute_result"
    }
   ],
   "source": [
    "print(metrics.classification_report(y_test,y_pred, target_names = newsgroup_data.target_names))"
   ]
  }
 ],
 "metadata": {
  "kernelspec": {
   "display_name": "Python 3",
   "language": "python",
   "name": "python3"
  },
  "language_info": {
   "codemirror_mode": {
    "name": "ipython",
    "version": 3
   },
   "file_extension": ".py",
   "mimetype": "text/x-python",
   "name": "python",
   "nbconvert_exporter": "python",
   "pygments_lexer": "ipython3",
   "version": "3.7.2"
  }
 },
 "nbformat": 4,
 "nbformat_minor": 2
}
